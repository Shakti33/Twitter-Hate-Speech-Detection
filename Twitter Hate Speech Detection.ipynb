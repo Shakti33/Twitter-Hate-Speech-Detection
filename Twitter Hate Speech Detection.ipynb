{
  "nbformat": 4,
  "nbformat_minor": 0,
  "metadata": {
    "colab": {
      "name": "Untitled1.ipynb",
      "provenance": [],
      "collapsed_sections": []
    },
    "kernelspec": {
      "name": "python3",
      "display_name": "Python 3"
    },
    "language_info": {
      "name": "python"
    },
    "accelerator": "GPU"
  },
  "cells": [
    {
      "cell_type": "code",
      "source": [
        "# Project: Help Twitter Combat Hate Speech Using NLP and Machine Learning\n",
        "\n",
        "### by SHAKTINATH SAINI"
      ],
      "metadata": {
        "id": "XzAJJwcZfXb0"
      },
      "execution_count": 1,
      "outputs": []
    },
    {
      "cell_type": "code",
      "source": [
        "import numpy as np\n",
        "import pandas as pd \n",
        "import matplotlib.pyplot as plt\n",
        "%matplotlib inline\n",
        "\n",
        "import warnings\n",
        "warnings.filterwarnings('ignore')"
      ],
      "metadata": {
        "id": "2y4DZToAfYja"
      },
      "execution_count": 70,
      "outputs": []
    },
    {
      "cell_type": "code",
      "source": [
        "####################################################################\n",
        "''' 1. Load the tweets file using read_csv function from Pandas package. '''\n",
        "####################################################################"
      ],
      "metadata": {
        "id": "1GV0EPUpgexZ"
      },
      "execution_count": null,
      "outputs": []
    },
    {
      "cell_type": "code",
      "source": [
        "data=pd.read_csv('TwitterHate.csv', encoding=\"utf-8\")\n",
        "data.head(3)"
      ],
      "metadata": {
        "colab": {
          "base_uri": "https://localhost:8080/",
          "height": 143
        },
        "id": "W1WC4MKfggCm",
        "outputId": "0e1b5af5-02c2-4e72-e40f-83183d93c3af"
      },
      "execution_count": 4,
      "outputs": [
        {
          "output_type": "execute_result",
          "data": {
            "text/html": [
              "<div>\n",
              "<style scoped>\n",
              "    .dataframe tbody tr th:only-of-type {\n",
              "        vertical-align: middle;\n",
              "    }\n",
              "\n",
              "    .dataframe tbody tr th {\n",
              "        vertical-align: top;\n",
              "    }\n",
              "\n",
              "    .dataframe thead th {\n",
              "        text-align: right;\n",
              "    }\n",
              "</style>\n",
              "<table border=\"1\" class=\"dataframe\">\n",
              "  <thead>\n",
              "    <tr style=\"text-align: right;\">\n",
              "      <th></th>\n",
              "      <th>id</th>\n",
              "      <th>label</th>\n",
              "      <th>tweet</th>\n",
              "    </tr>\n",
              "  </thead>\n",
              "  <tbody>\n",
              "    <tr>\n",
              "      <th>0</th>\n",
              "      <td>1</td>\n",
              "      <td>0</td>\n",
              "      <td>@user when a father is dysfunctional and is s...</td>\n",
              "    </tr>\n",
              "    <tr>\n",
              "      <th>1</th>\n",
              "      <td>2</td>\n",
              "      <td>0</td>\n",
              "      <td>@user @user thanks for #lyft credit i can't us...</td>\n",
              "    </tr>\n",
              "    <tr>\n",
              "      <th>2</th>\n",
              "      <td>3</td>\n",
              "      <td>0</td>\n",
              "      <td>bihday your majesty</td>\n",
              "    </tr>\n",
              "  </tbody>\n",
              "</table>\n",
              "</div>"
            ],
            "text/plain": [
              "   id  label                                              tweet\n",
              "0   1      0   @user when a father is dysfunctional and is s...\n",
              "1   2      0  @user @user thanks for #lyft credit i can't us...\n",
              "2   3      0                                bihday your majesty"
            ]
          },
          "metadata": {},
          "execution_count": 4
        }
      ]
    },
    {
      "cell_type": "code",
      "source": [
        "data.shape"
      ],
      "metadata": {
        "colab": {
          "base_uri": "https://localhost:8080/"
        },
        "id": "0Ec1tq7Qgxf0",
        "outputId": "4cef5f5d-6eb1-41b6-8612-e7b6eb5912f5"
      },
      "execution_count": 5,
      "outputs": [
        {
          "output_type": "execute_result",
          "data": {
            "text/plain": [
              "(31962, 3)"
            ]
          },
          "metadata": {},
          "execution_count": 5
        }
      ]
    },
    {
      "cell_type": "code",
      "source": [
        "data.isnull().sum()"
      ],
      "metadata": {
        "colab": {
          "base_uri": "https://localhost:8080/"
        },
        "id": "UEbpUribg4MV",
        "outputId": "f0460f77-f5ad-4956-ec66-3c443df6ccb7"
      },
      "execution_count": 6,
      "outputs": [
        {
          "output_type": "execute_result",
          "data": {
            "text/plain": [
              "id       0\n",
              "label    0\n",
              "tweet    0\n",
              "dtype: int64"
            ]
          },
          "metadata": {},
          "execution_count": 6
        }
      ]
    },
    {
      "cell_type": "code",
      "source": [
        "####################################################################\n",
        "''' 2. Get the tweets into a list for easy text cleanup and manipulation. '''\n",
        "####################################################################"
      ],
      "metadata": {
        "id": "sG9YXCMHha75"
      },
      "execution_count": 7,
      "outputs": []
    },
    {
      "cell_type": "code",
      "source": [
        "data=data[['tweet','label']]"
      ],
      "metadata": {
        "id": "xLUWg-2Kheld"
      },
      "execution_count": 7,
      "outputs": []
    },
    {
      "cell_type": "code",
      "source": [
        "data.shape"
      ],
      "metadata": {
        "colab": {
          "base_uri": "https://localhost:8080/"
        },
        "id": "hes-Tzfnhj8E",
        "outputId": "83411e46-1445-461f-824a-a949a97b4320"
      },
      "execution_count": 8,
      "outputs": [
        {
          "output_type": "execute_result",
          "data": {
            "text/plain": [
              "(31962, 2)"
            ]
          },
          "metadata": {},
          "execution_count": 8
        }
      ]
    },
    {
      "cell_type": "code",
      "source": [
        "data.isnull().sum()"
      ],
      "metadata": {
        "colab": {
          "base_uri": "https://localhost:8080/"
        },
        "id": "d_lIM-rhhnaP",
        "outputId": "5d465ed9-b1fd-4b18-fc47-22413953df96"
      },
      "execution_count": 9,
      "outputs": [
        {
          "output_type": "execute_result",
          "data": {
            "text/plain": [
              "tweet    0\n",
              "label    0\n",
              "dtype: int64"
            ]
          },
          "metadata": {},
          "execution_count": 9
        }
      ]
    },
    {
      "cell_type": "code",
      "source": [
        "data.head(3)"
      ],
      "metadata": {
        "colab": {
          "base_uri": "https://localhost:8080/",
          "height": 143
        },
        "id": "z1yjgRIIhqWm",
        "outputId": "860ca682-79e0-4710-d5a5-96a63db5056b"
      },
      "execution_count": 10,
      "outputs": [
        {
          "output_type": "execute_result",
          "data": {
            "text/html": [
              "<div>\n",
              "<style scoped>\n",
              "    .dataframe tbody tr th:only-of-type {\n",
              "        vertical-align: middle;\n",
              "    }\n",
              "\n",
              "    .dataframe tbody tr th {\n",
              "        vertical-align: top;\n",
              "    }\n",
              "\n",
              "    .dataframe thead th {\n",
              "        text-align: right;\n",
              "    }\n",
              "</style>\n",
              "<table border=\"1\" class=\"dataframe\">\n",
              "  <thead>\n",
              "    <tr style=\"text-align: right;\">\n",
              "      <th></th>\n",
              "      <th>tweet</th>\n",
              "      <th>label</th>\n",
              "    </tr>\n",
              "  </thead>\n",
              "  <tbody>\n",
              "    <tr>\n",
              "      <th>0</th>\n",
              "      <td>@user when a father is dysfunctional and is s...</td>\n",
              "      <td>0</td>\n",
              "    </tr>\n",
              "    <tr>\n",
              "      <th>1</th>\n",
              "      <td>@user @user thanks for #lyft credit i can't us...</td>\n",
              "      <td>0</td>\n",
              "    </tr>\n",
              "    <tr>\n",
              "      <th>2</th>\n",
              "      <td>bihday your majesty</td>\n",
              "      <td>0</td>\n",
              "    </tr>\n",
              "  </tbody>\n",
              "</table>\n",
              "</div>"
            ],
            "text/plain": [
              "                                               tweet  label\n",
              "0   @user when a father is dysfunctional and is s...      0\n",
              "1  @user @user thanks for #lyft credit i can't us...      0\n",
              "2                                bihday your majesty      0"
            ]
          },
          "metadata": {},
          "execution_count": 10
        }
      ]
    },
    {
      "cell_type": "code",
      "source": [
        "####################################################################\n",
        "\"\"\" \n",
        "3. To cleanup:\n",
        "        1. Normalize the casing.\n",
        "        2. Using regular expressions, remove user handles. These begin with '@’.\n",
        "        3. Using regular expressions, remove URLs.\n",
        "        4. Using TweetTokenizer from NLTK, tokenize the tweets into individual terms.\n",
        "        5. Remove stop words.\n",
        "        6. Remove redundant terms like ‘amp’, ‘rt’, etc.\n",
        "        7. Remove ‘#’ symbols from the tweet while retaining the term.\n",
        "\"\"\"\n",
        "####################################################################"
      ],
      "metadata": {
        "id": "j-qrXU7ahtdw"
      },
      "execution_count": null,
      "outputs": []
    },
    {
      "cell_type": "code",
      "source": [
        "import nltk\n",
        "nltk.download('stopwords')\n",
        "from nltk.corpus import stopwords\n",
        "stop_words=set(stopwords.words('english'))"
      ],
      "metadata": {
        "colab": {
          "base_uri": "https://localhost:8080/"
        },
        "id": "LtssW1lfizSu",
        "outputId": "289e371c-6d5a-4b0b-b3b9-64ea2c55e7b7"
      },
      "execution_count": 12,
      "outputs": [
        {
          "output_type": "stream",
          "name": "stdout",
          "text": [
            "[nltk_data] Downloading package stopwords to /root/nltk_data...\n",
            "[nltk_data]   Unzipping corpora/stopwords.zip.\n"
          ]
        }
      ]
    },
    {
      "cell_type": "code",
      "source": [
        "from nltk.tokenize import TweetTokenizer"
      ],
      "metadata": {
        "id": "yABsOKbojoZL"
      },
      "execution_count": 13,
      "outputs": []
    },
    {
      "cell_type": "code",
      "source": [
        "def preprocess_tweet_text(tweet):\n",
        " # Normalize the casing.\n",
        " tweet.lower()\n",
        "\n",
        " tweet = re.sub('[^A-Za-z0-9]+', ' ', tweet)\n",
        "\n",
        " # Remove user @ references and '#' from tweet\n",
        " tweet = re.sub(r'\\@\\w+|\\#','', tweet)\n",
        "\n",
        " # Remove urls\n",
        " tweet = re.sub(r\"http\\S+|www\\S+|https\\S+\", '', tweet, flags=re.MULTILINE)\n",
        "\n",
        " # Remove punctuations\n",
        " tweet = tweet.translate(str.maketrans('', '', string.punctuation))\n",
        "\n",
        " #Using TweetTokenizer from NLTK, tokenize the tweets into individual terms.\n",
        " tk = TweetTokenizer()\n",
        " tweet_tokens = tk.tokenize(tweet)\n",
        "\n",
        " # Remove stopwords\n",
        " filtered_words = [w for w in tweet_tokens if not w in stop_words]\n",
        "\n",
        " # Remove redundant terms like ‘amp’, ‘rt’, etc.\n",
        " filtered_words_final = [w for w in filtered_words if not w in ('amp', 'rt')]\n",
        "\n",
        " return \" \".join(filtered_words_final)"
      ],
      "metadata": {
        "id": "YKu3hXLJjzpv"
      },
      "execution_count": 15,
      "outputs": []
    },
    {
      "cell_type": "code",
      "source": [
        "import re"
      ],
      "metadata": {
        "id": "x-LR35a8sOtT"
      },
      "execution_count": 17,
      "outputs": []
    },
    {
      "cell_type": "code",
      "source": [
        "import string"
      ],
      "metadata": {
        "id": "2sD9NolRtGt_"
      },
      "execution_count": 19,
      "outputs": []
    },
    {
      "cell_type": "code",
      "source": [
        "data.tweet = data['tweet'].apply(preprocess_tweet_text)"
      ],
      "metadata": {
        "id": "hG-_8IxAp5Up"
      },
      "execution_count": 20,
      "outputs": []
    },
    {
      "cell_type": "code",
      "source": [
        "data.head(3)"
      ],
      "metadata": {
        "colab": {
          "base_uri": "https://localhost:8080/",
          "height": 143
        },
        "id": "yUEQI5cpp_kl",
        "outputId": "27c3f8e0-62f2-4ee2-a89a-edf14e6fa206"
      },
      "execution_count": 21,
      "outputs": [
        {
          "output_type": "execute_result",
          "data": {
            "text/html": [
              "<div>\n",
              "<style scoped>\n",
              "    .dataframe tbody tr th:only-of-type {\n",
              "        vertical-align: middle;\n",
              "    }\n",
              "\n",
              "    .dataframe tbody tr th {\n",
              "        vertical-align: top;\n",
              "    }\n",
              "\n",
              "    .dataframe thead th {\n",
              "        text-align: right;\n",
              "    }\n",
              "</style>\n",
              "<table border=\"1\" class=\"dataframe\">\n",
              "  <thead>\n",
              "    <tr style=\"text-align: right;\">\n",
              "      <th></th>\n",
              "      <th>tweet</th>\n",
              "      <th>label</th>\n",
              "    </tr>\n",
              "  </thead>\n",
              "  <tbody>\n",
              "    <tr>\n",
              "      <th>0</th>\n",
              "      <td>user father dysfunctional selfish drags kids d...</td>\n",
              "      <td>0</td>\n",
              "    </tr>\n",
              "    <tr>\n",
              "      <th>1</th>\n",
              "      <td>user user thanks lyft credit use cause offer w...</td>\n",
              "      <td>0</td>\n",
              "    </tr>\n",
              "    <tr>\n",
              "      <th>2</th>\n",
              "      <td>bihday majesty</td>\n",
              "      <td>0</td>\n",
              "    </tr>\n",
              "  </tbody>\n",
              "</table>\n",
              "</div>"
            ],
            "text/plain": [
              "                                               tweet  label\n",
              "0  user father dysfunctional selfish drags kids d...      0\n",
              "1  user user thanks lyft credit use cause offer w...      0\n",
              "2                                     bihday majesty      0"
            ]
          },
          "metadata": {},
          "execution_count": 21
        }
      ]
    },
    {
      "cell_type": "code",
      "source": [
        "####################################################################\n",
        "''' 4. Extra cleanup by removing terms with a length of 1.'''\n",
        "####################################################################"
      ],
      "metadata": {
        "id": "NiOP4S0WtR0W"
      },
      "execution_count": 22,
      "outputs": []
    },
    {
      "cell_type": "code",
      "source": [
        "data['length']= data['tweet'].apply(len)\n",
        "data.head(3)"
      ],
      "metadata": {
        "colab": {
          "base_uri": "https://localhost:8080/",
          "height": 143
        },
        "id": "1_KCoEtltWPh",
        "outputId": "85e706fe-b28d-45c3-ebc9-3f97ec4d464c"
      },
      "execution_count": 23,
      "outputs": [
        {
          "output_type": "execute_result",
          "data": {
            "text/html": [
              "<div>\n",
              "<style scoped>\n",
              "    .dataframe tbody tr th:only-of-type {\n",
              "        vertical-align: middle;\n",
              "    }\n",
              "\n",
              "    .dataframe tbody tr th {\n",
              "        vertical-align: top;\n",
              "    }\n",
              "\n",
              "    .dataframe thead th {\n",
              "        text-align: right;\n",
              "    }\n",
              "</style>\n",
              "<table border=\"1\" class=\"dataframe\">\n",
              "  <thead>\n",
              "    <tr style=\"text-align: right;\">\n",
              "      <th></th>\n",
              "      <th>tweet</th>\n",
              "      <th>label</th>\n",
              "      <th>length</th>\n",
              "    </tr>\n",
              "  </thead>\n",
              "  <tbody>\n",
              "    <tr>\n",
              "      <th>0</th>\n",
              "      <td>user father dysfunctional selfish drags kids d...</td>\n",
              "      <td>0</td>\n",
              "      <td>60</td>\n",
              "    </tr>\n",
              "    <tr>\n",
              "      <th>1</th>\n",
              "      <td>user user thanks lyft credit use cause offer w...</td>\n",
              "      <td>0</td>\n",
              "      <td>87</td>\n",
              "    </tr>\n",
              "    <tr>\n",
              "      <th>2</th>\n",
              "      <td>bihday majesty</td>\n",
              "      <td>0</td>\n",
              "      <td>14</td>\n",
              "    </tr>\n",
              "  </tbody>\n",
              "</table>\n",
              "</div>"
            ],
            "text/plain": [
              "                                               tweet  label  length\n",
              "0  user father dysfunctional selfish drags kids d...      0      60\n",
              "1  user user thanks lyft credit use cause offer w...      0      87\n",
              "2                                     bihday majesty      0      14"
            ]
          },
          "metadata": {},
          "execution_count": 23
        }
      ]
    },
    {
      "cell_type": "code",
      "source": [
        "data.shape"
      ],
      "metadata": {
        "colab": {
          "base_uri": "https://localhost:8080/"
        },
        "id": "9m-1f3H2taMH",
        "outputId": "5df6931e-5cb5-4f46-df5d-8b11b90a858c"
      },
      "execution_count": 24,
      "outputs": [
        {
          "output_type": "execute_result",
          "data": {
            "text/plain": [
              "(31962, 3)"
            ]
          },
          "metadata": {},
          "execution_count": 24
        }
      ]
    },
    {
      "cell_type": "code",
      "source": [
        "len(data[data['length'] == 0])"
      ],
      "metadata": {
        "id": "OoGi8_ASkZrJ",
        "colab": {
          "base_uri": "https://localhost:8080/"
        },
        "outputId": "0249292a-9df7-4a1e-935a-e660132fdda1"
      },
      "execution_count": 25,
      "outputs": [
        {
          "output_type": "execute_result",
          "data": {
            "text/plain": [
              "11"
            ]
          },
          "metadata": {},
          "execution_count": 25
        }
      ]
    },
    {
      "cell_type": "code",
      "source": [
        "len(data[data['length'] == 1])"
      ],
      "metadata": {
        "colab": {
          "base_uri": "https://localhost:8080/"
        },
        "id": "J9A-Psmete6Z",
        "outputId": "d0767b63-cc0d-4d45-eb9f-2313c6f8abd0"
      },
      "execution_count": 26,
      "outputs": [
        {
          "output_type": "execute_result",
          "data": {
            "text/plain": [
              "2"
            ]
          },
          "metadata": {},
          "execution_count": 26
        }
      ]
    },
    {
      "cell_type": "code",
      "source": [
        "len(data[data['length']>1])"
      ],
      "metadata": {
        "colab": {
          "base_uri": "https://localhost:8080/"
        },
        "id": "RwM7TaWJthIw",
        "outputId": "44f1b4f5-68b4-479e-f277-8f92f2ea53d4"
      },
      "execution_count": 27,
      "outputs": [
        {
          "output_type": "execute_result",
          "data": {
            "text/plain": [
              "31949"
            ]
          },
          "metadata": {},
          "execution_count": 27
        }
      ]
    },
    {
      "cell_type": "code",
      "source": [
        "data[data['length'] == 0]\n"
      ],
      "metadata": {
        "colab": {
          "base_uri": "https://localhost:8080/",
          "height": 394
        },
        "id": "9yvd7QWOtiyy",
        "outputId": "874d16d1-9ee7-44c7-9ddc-2d96bdd9758f"
      },
      "execution_count": 28,
      "outputs": [
        {
          "output_type": "execute_result",
          "data": {
            "text/html": [
              "<div>\n",
              "<style scoped>\n",
              "    .dataframe tbody tr th:only-of-type {\n",
              "        vertical-align: middle;\n",
              "    }\n",
              "\n",
              "    .dataframe tbody tr th {\n",
              "        vertical-align: top;\n",
              "    }\n",
              "\n",
              "    .dataframe thead th {\n",
              "        text-align: right;\n",
              "    }\n",
              "</style>\n",
              "<table border=\"1\" class=\"dataframe\">\n",
              "  <thead>\n",
              "    <tr style=\"text-align: right;\">\n",
              "      <th></th>\n",
              "      <th>tweet</th>\n",
              "      <th>label</th>\n",
              "      <th>length</th>\n",
              "    </tr>\n",
              "  </thead>\n",
              "  <tbody>\n",
              "    <tr>\n",
              "      <th>3351</th>\n",
              "      <td></td>\n",
              "      <td>0</td>\n",
              "      <td>0</td>\n",
              "    </tr>\n",
              "    <tr>\n",
              "      <th>7222</th>\n",
              "      <td></td>\n",
              "      <td>0</td>\n",
              "      <td>0</td>\n",
              "    </tr>\n",
              "    <tr>\n",
              "      <th>10461</th>\n",
              "      <td></td>\n",
              "      <td>0</td>\n",
              "      <td>0</td>\n",
              "    </tr>\n",
              "    <tr>\n",
              "      <th>13038</th>\n",
              "      <td></td>\n",
              "      <td>0</td>\n",
              "      <td>0</td>\n",
              "    </tr>\n",
              "    <tr>\n",
              "      <th>15434</th>\n",
              "      <td></td>\n",
              "      <td>0</td>\n",
              "      <td>0</td>\n",
              "    </tr>\n",
              "    <tr>\n",
              "      <th>16250</th>\n",
              "      <td></td>\n",
              "      <td>0</td>\n",
              "      <td>0</td>\n",
              "    </tr>\n",
              "    <tr>\n",
              "      <th>20261</th>\n",
              "      <td></td>\n",
              "      <td>0</td>\n",
              "      <td>0</td>\n",
              "    </tr>\n",
              "    <tr>\n",
              "      <th>22709</th>\n",
              "      <td></td>\n",
              "      <td>0</td>\n",
              "      <td>0</td>\n",
              "    </tr>\n",
              "    <tr>\n",
              "      <th>25629</th>\n",
              "      <td></td>\n",
              "      <td>1</td>\n",
              "      <td>0</td>\n",
              "    </tr>\n",
              "    <tr>\n",
              "      <th>29803</th>\n",
              "      <td></td>\n",
              "      <td>1</td>\n",
              "      <td>0</td>\n",
              "    </tr>\n",
              "    <tr>\n",
              "      <th>31781</th>\n",
              "      <td></td>\n",
              "      <td>0</td>\n",
              "      <td>0</td>\n",
              "    </tr>\n",
              "  </tbody>\n",
              "</table>\n",
              "</div>"
            ],
            "text/plain": [
              "      tweet  label  length\n",
              "3351             0       0\n",
              "7222             0       0\n",
              "10461            0       0\n",
              "13038            0       0\n",
              "15434            0       0\n",
              "16250            0       0\n",
              "20261            0       0\n",
              "22709            0       0\n",
              "25629            1       0\n",
              "29803            1       0\n",
              "31781            0       0"
            ]
          },
          "metadata": {},
          "execution_count": 28
        }
      ]
    },
    {
      "cell_type": "code",
      "source": [
        "data = data[data['length']>1]"
      ],
      "metadata": {
        "id": "DcMLLiwctk_r"
      },
      "execution_count": 29,
      "outputs": []
    },
    {
      "cell_type": "code",
      "source": [
        "data.shape"
      ],
      "metadata": {
        "colab": {
          "base_uri": "https://localhost:8080/"
        },
        "id": "aFi-vqectnUR",
        "outputId": "79966403-93da-4320-9a86-5a243e299101"
      },
      "execution_count": 30,
      "outputs": [
        {
          "output_type": "execute_result",
          "data": {
            "text/plain": [
              "(31949, 3)"
            ]
          },
          "metadata": {},
          "execution_count": 30
        }
      ]
    },
    {
      "cell_type": "code",
      "source": [
        "data.head(3)"
      ],
      "metadata": {
        "colab": {
          "base_uri": "https://localhost:8080/",
          "height": 143
        },
        "id": "CbEluuzFtpJt",
        "outputId": "71917117-4af5-4101-8a36-a375b47c347e"
      },
      "execution_count": 31,
      "outputs": [
        {
          "output_type": "execute_result",
          "data": {
            "text/html": [
              "<div>\n",
              "<style scoped>\n",
              "    .dataframe tbody tr th:only-of-type {\n",
              "        vertical-align: middle;\n",
              "    }\n",
              "\n",
              "    .dataframe tbody tr th {\n",
              "        vertical-align: top;\n",
              "    }\n",
              "\n",
              "    .dataframe thead th {\n",
              "        text-align: right;\n",
              "    }\n",
              "</style>\n",
              "<table border=\"1\" class=\"dataframe\">\n",
              "  <thead>\n",
              "    <tr style=\"text-align: right;\">\n",
              "      <th></th>\n",
              "      <th>tweet</th>\n",
              "      <th>label</th>\n",
              "      <th>length</th>\n",
              "    </tr>\n",
              "  </thead>\n",
              "  <tbody>\n",
              "    <tr>\n",
              "      <th>0</th>\n",
              "      <td>user father dysfunctional selfish drags kids d...</td>\n",
              "      <td>0</td>\n",
              "      <td>60</td>\n",
              "    </tr>\n",
              "    <tr>\n",
              "      <th>1</th>\n",
              "      <td>user user thanks lyft credit use cause offer w...</td>\n",
              "      <td>0</td>\n",
              "      <td>87</td>\n",
              "    </tr>\n",
              "    <tr>\n",
              "      <th>2</th>\n",
              "      <td>bihday majesty</td>\n",
              "      <td>0</td>\n",
              "      <td>14</td>\n",
              "    </tr>\n",
              "  </tbody>\n",
              "</table>\n",
              "</div>"
            ],
            "text/plain": [
              "                                               tweet  label  length\n",
              "0  user father dysfunctional selfish drags kids d...      0      60\n",
              "1  user user thanks lyft credit use cause offer w...      0      87\n",
              "2                                     bihday majesty      0      14"
            ]
          },
          "metadata": {},
          "execution_count": 31
        }
      ]
    },
    {
      "cell_type": "code",
      "source": [
        "####################################################################\n",
        "\"\"\"\n",
        "5. Check out the top terms in the tweets:\n",
        "\n",
        "      1. First, get all the tokenized terms into one large list.\n",
        "      2. Use the counter and find the 10 most common terms.\n",
        "\"\"\"\n",
        "####################################################################"
      ],
      "metadata": {
        "id": "qS88sSAztqn9"
      },
      "execution_count": null,
      "outputs": []
    },
    {
      "cell_type": "code",
      "source": [
        "def token_text(text):\n",
        " # tokenize the text into a list of words\n",
        " tokens = nltk.tokenize.word_tokenize(text)\n",
        " return tokens"
      ],
      "metadata": {
        "id": "0WfkEp-6kWiW"
      },
      "execution_count": 32,
      "outputs": []
    },
    {
      "cell_type": "code",
      "source": [
        "import nltk\n",
        "nltk.download('punkt')"
      ],
      "metadata": {
        "colab": {
          "base_uri": "https://localhost:8080/"
        },
        "id": "7n0eDuJpuERK",
        "outputId": "fe20f010-0194-415f-da31-245508a87779"
      },
      "execution_count": 34,
      "outputs": [
        {
          "output_type": "stream",
          "name": "stdout",
          "text": [
            "[nltk_data] Downloading package punkt to /root/nltk_data...\n",
            "[nltk_data]   Unzipping tokenizers/punkt.zip.\n"
          ]
        },
        {
          "output_type": "execute_result",
          "data": {
            "text/plain": [
              "True"
            ]
          },
          "metadata": {},
          "execution_count": 34
        }
      ]
    },
    {
      "cell_type": "code",
      "source": [
        "# Final list with tokenized words\n",
        "tokenized_large = []\n",
        "# Iterating over each string in data\n",
        "for x in data['tweet']:\n",
        " # Calliing preprocess text function\n",
        " token = token_text(x)\n",
        " tokenized_large.append(token)\n",
        "flattened_tokeninized_final = [i for j in tokenized_large for i in j]\n"
      ],
      "metadata": {
        "id": "WaC4_lfMt8gY"
      },
      "execution_count": 35,
      "outputs": []
    },
    {
      "cell_type": "code",
      "source": [
        "type(flattened_tokeninized_final)"
      ],
      "metadata": {
        "colab": {
          "base_uri": "https://localhost:8080/"
        },
        "id": "BwaBZTLAt_NC",
        "outputId": "8d193e49-9050-4068-9f0b-aae8d8f4797d"
      },
      "execution_count": 36,
      "outputs": [
        {
          "output_type": "execute_result",
          "data": {
            "text/plain": [
              "list"
            ]
          },
          "metadata": {},
          "execution_count": 36
        }
      ]
    },
    {
      "cell_type": "code",
      "source": [
        "# Use the counter and find the 10 most common terms.\n",
        "from collections import Counter\n",
        "most_common_words= [word for word, word_count in Counter(flattened_tokeninized_final).most_common(10)]\n",
        "print(most_common_words)"
      ],
      "metadata": {
        "colab": {
          "base_uri": "https://localhost:8080/"
        },
        "id": "9dY_Ug2SuLwe",
        "outputId": "c2231cfe-6a28-4ded-a9e2-041d047d086d"
      },
      "execution_count": 37,
      "outputs": [
        {
          "output_type": "stream",
          "name": "stdout",
          "text": [
            "['user', 'love', 'day', 'happy', 'u', 'life', 'time', 'like', 'today', 'new']\n"
          ]
        }
      ]
    },
    {
      "cell_type": "code",
      "source": [
        "####################################################################\n",
        "\"\"\"\n",
        "6. Data formatting for predictive modeling:\n",
        "\n",
        "      1. Join the tokens back to form strings. This will be required for the vectorizers.\n",
        "      2. Assign x and y.\n",
        "      3. Perform train_test_split using sklearn.\n",
        "\"\"\"\n",
        "####################################################################"
      ],
      "metadata": {
        "id": "3hPgIL4GuOLK"
      },
      "execution_count": null,
      "outputs": []
    },
    {
      "cell_type": "code",
      "source": [
        "data.head()"
      ],
      "metadata": {
        "id": "YwKAWYurjwDa",
        "colab": {
          "base_uri": "https://localhost:8080/",
          "height": 206
        },
        "outputId": "1bd04388-29d5-412a-a5ef-fa10a224aeb7"
      },
      "execution_count": 38,
      "outputs": [
        {
          "output_type": "execute_result",
          "data": {
            "text/html": [
              "<div>\n",
              "<style scoped>\n",
              "    .dataframe tbody tr th:only-of-type {\n",
              "        vertical-align: middle;\n",
              "    }\n",
              "\n",
              "    .dataframe tbody tr th {\n",
              "        vertical-align: top;\n",
              "    }\n",
              "\n",
              "    .dataframe thead th {\n",
              "        text-align: right;\n",
              "    }\n",
              "</style>\n",
              "<table border=\"1\" class=\"dataframe\">\n",
              "  <thead>\n",
              "    <tr style=\"text-align: right;\">\n",
              "      <th></th>\n",
              "      <th>tweet</th>\n",
              "      <th>label</th>\n",
              "      <th>length</th>\n",
              "    </tr>\n",
              "  </thead>\n",
              "  <tbody>\n",
              "    <tr>\n",
              "      <th>0</th>\n",
              "      <td>user father dysfunctional selfish drags kids d...</td>\n",
              "      <td>0</td>\n",
              "      <td>60</td>\n",
              "    </tr>\n",
              "    <tr>\n",
              "      <th>1</th>\n",
              "      <td>user user thanks lyft credit use cause offer w...</td>\n",
              "      <td>0</td>\n",
              "      <td>87</td>\n",
              "    </tr>\n",
              "    <tr>\n",
              "      <th>2</th>\n",
              "      <td>bihday majesty</td>\n",
              "      <td>0</td>\n",
              "      <td>14</td>\n",
              "    </tr>\n",
              "    <tr>\n",
              "      <th>3</th>\n",
              "      <td>model love u take u time ur</td>\n",
              "      <td>0</td>\n",
              "      <td>27</td>\n",
              "    </tr>\n",
              "    <tr>\n",
              "      <th>4</th>\n",
              "      <td>factsguide society motivation</td>\n",
              "      <td>0</td>\n",
              "      <td>29</td>\n",
              "    </tr>\n",
              "  </tbody>\n",
              "</table>\n",
              "</div>"
            ],
            "text/plain": [
              "                                               tweet  label  length\n",
              "0  user father dysfunctional selfish drags kids d...      0      60\n",
              "1  user user thanks lyft credit use cause offer w...      0      87\n",
              "2                                     bihday majesty      0      14\n",
              "3                        model love u take u time ur      0      27\n",
              "4                      factsguide society motivation      0      29"
            ]
          },
          "metadata": {},
          "execution_count": 38
        }
      ]
    },
    {
      "cell_type": "code",
      "source": [
        "data.shape"
      ],
      "metadata": {
        "colab": {
          "base_uri": "https://localhost:8080/"
        },
        "id": "bOtxEsrdufDx",
        "outputId": "e2215e61-524d-45a6-bb9f-67cc61d73430"
      },
      "execution_count": 39,
      "outputs": [
        {
          "output_type": "execute_result",
          "data": {
            "text/plain": [
              "(31949, 3)"
            ]
          },
          "metadata": {},
          "execution_count": 39
        }
      ]
    },
    {
      "cell_type": "code",
      "source": [
        "X = data['tweet']\n",
        "Y = data['label']"
      ],
      "metadata": {
        "id": "cIBbGOwDuhp8"
      },
      "execution_count": 40,
      "outputs": []
    },
    {
      "cell_type": "code",
      "source": [
        "# Splitting data into train and test set\n",
        "from sklearn.model_selection import train_test_split\n",
        "X_train, X_test, y_train, y_test = train_test_split(X, Y ,test_size=0.20, random_state=10)"
      ],
      "metadata": {
        "id": "4H64btRJulE9"
      },
      "execution_count": 41,
      "outputs": []
    },
    {
      "cell_type": "code",
      "source": [
        "####################################################################\n",
        "\"\"\"\n",
        "7. We’ll use TF-IDF values for the terms as a feature to get into a vector space model.\n",
        "\n",
        "      1. Import TF-IDF vectorizer from sklearn.\n",
        "      2. Instantiate with a maximum of 5000 terms in your vocabulary.\n",
        "      3. Fit and apply on the train set.\n",
        "      4. Apply on the test set.\n",
        "\"\"\"\n",
        "####################################################################"
      ],
      "metadata": {
        "id": "Uu_iIH2WupmQ"
      },
      "execution_count": null,
      "outputs": []
    },
    {
      "cell_type": "code",
      "source": [
        " # 1. Import TF-IDF vectorizer from sklearn.\n",
        "from sklearn.feature_extraction.text import TfidfVectorizer"
      ],
      "metadata": {
        "id": "r4rXIi1ZjLtG"
      },
      "execution_count": 43,
      "outputs": []
    },
    {
      "cell_type": "code",
      "source": [
        "# 2. Instantiate with a maximum of 5000 terms in your vocabulary.\n",
        "tfidf_vect = TfidfVectorizer(max_features =5000)"
      ],
      "metadata": {
        "id": "_mwQrFwRu4vU"
      },
      "execution_count": 44,
      "outputs": []
    },
    {
      "cell_type": "code",
      "source": [
        "# 3. Fit and apply on the train set.\n",
        "X_train_tfidf = tfidf_vect.fit_transform(X_train)"
      ],
      "metadata": {
        "id": "PNt6aeiUu6-r"
      },
      "execution_count": 45,
      "outputs": []
    },
    {
      "cell_type": "code",
      "source": [
        "# 4. Apply on the test set.\n",
        "X_test_tfidf = tfidf_vect.transform(X_test)"
      ],
      "metadata": {
        "id": "Y5Bs-R1mu8__"
      },
      "execution_count": 46,
      "outputs": []
    },
    {
      "cell_type": "code",
      "source": [
        "####################################################################\n",
        "\"\"\"\n",
        "8. Model building: Ordinary Logistic Regression\n",
        "\n",
        "      1. Instantiate Logistic Regression from sklearn with default parameters.\n",
        "      2. Fit into the train data.\n",
        "      3. Make predictions for the train and the test set.\n",
        "\"\"\"\n",
        "####################################################################"
      ],
      "metadata": {
        "id": "ST-gddv9u_AR"
      },
      "execution_count": null,
      "outputs": []
    },
    {
      "cell_type": "code",
      "source": [
        "# Logistic Regression\n",
        "from sklearn.linear_model import LogisticRegression\n",
        "lr = LogisticRegression()"
      ],
      "metadata": {
        "id": "rxL4gDsOjHZG"
      },
      "execution_count": 47,
      "outputs": []
    },
    {
      "cell_type": "code",
      "source": [
        "lr.fit(X_train_tfidf, y_train)"
      ],
      "metadata": {
        "colab": {
          "base_uri": "https://localhost:8080/"
        },
        "id": "l5xPFoOmvLmX",
        "outputId": "27d27511-33de-483d-d1f2-a6e2d7caa326"
      },
      "execution_count": 48,
      "outputs": [
        {
          "output_type": "execute_result",
          "data": {
            "text/plain": [
              "LogisticRegression()"
            ]
          },
          "metadata": {},
          "execution_count": 48
        }
      ]
    },
    {
      "cell_type": "code",
      "source": [
        "# Make predictions for the train and the test set.\n",
        "predictions_train = lr.predict(X_train_tfidf)\n",
        "predictions_test = lr.predict(X_test_tfidf)"
      ],
      "metadata": {
        "id": "epo-8B7tvNtw"
      },
      "execution_count": 49,
      "outputs": []
    },
    {
      "cell_type": "code",
      "source": [
        "####################################################################\n",
        "\"\"\"\n",
        "9. Model evaluation: Accuracy, recall, and f_1 score.\n",
        "\n",
        "      1. Report the accuracy on the train set.\n",
        "      2. Report the recall on the train set: decent, high, or low.\n",
        "      3. Get the f1 score on the train set.\n",
        "\"\"\"\n",
        "####################################################################"
      ],
      "metadata": {
        "id": "UtO7bBM2vTuT"
      },
      "execution_count": null,
      "outputs": []
    },
    {
      "cell_type": "code",
      "source": [
        "from sklearn.metrics import classification_report, recall_score, accuracy_score, f1_score"
      ],
      "metadata": {
        "id": "Mh8T9PVljEyZ"
      },
      "execution_count": 51,
      "outputs": []
    },
    {
      "cell_type": "code",
      "source": [
        "print(classification_report(y_test, predictions_test))"
      ],
      "metadata": {
        "colab": {
          "base_uri": "https://localhost:8080/"
        },
        "id": "AWeZfhSNvduy",
        "outputId": "6f9fb9d1-fe19-4060-ba63-5ee9bcd3a212"
      },
      "execution_count": 52,
      "outputs": [
        {
          "output_type": "stream",
          "name": "stdout",
          "text": [
            "              precision    recall  f1-score   support\n",
            "\n",
            "           0       0.96      1.00      0.98      5965\n",
            "           1       0.93      0.35      0.51       425\n",
            "\n",
            "    accuracy                           0.95      6390\n",
            "   macro avg       0.94      0.67      0.74      6390\n",
            "weighted avg       0.95      0.95      0.95      6390\n",
            "\n"
          ]
        }
      ]
    },
    {
      "cell_type": "code",
      "source": [
        "print(\"Recall : \", recall_score(y_test, predictions_test))"
      ],
      "metadata": {
        "colab": {
          "base_uri": "https://localhost:8080/"
        },
        "id": "eJsF3DHjvdAP",
        "outputId": "82762c07-22ab-4ff9-c7e7-c307ccbb3948"
      },
      "execution_count": 53,
      "outputs": [
        {
          "output_type": "stream",
          "name": "stdout",
          "text": [
            "Recall :  0.34823529411764703\n"
          ]
        }
      ]
    },
    {
      "cell_type": "code",
      "source": [
        "### Recall is 34%. ie Sensitivity or true positive rate is 34%, which is very low."
      ],
      "metadata": {
        "id": "DW_lyqZRvjaP"
      },
      "execution_count": 54,
      "outputs": []
    },
    {
      "cell_type": "code",
      "source": [
        "print(\"f1_score : \",f1_score(y_test, predictions_test))"
      ],
      "metadata": {
        "colab": {
          "base_uri": "https://localhost:8080/"
        },
        "id": "_u1UVUEhvm31",
        "outputId": "70d76b2c-f252-4106-bfa0-66fa72364471"
      },
      "execution_count": 55,
      "outputs": [
        {
          "output_type": "stream",
          "name": "stdout",
          "text": [
            "f1_score :  0.5068493150684932\n"
          ]
        }
      ]
    },
    {
      "cell_type": "code",
      "source": [
        "print(accuracy_score(y_test, predictions_test))\n"
      ],
      "metadata": {
        "colab": {
          "base_uri": "https://localhost:8080/"
        },
        "id": "XRJy28Kgvoxm",
        "outputId": "4f836349-4f4e-41d8-f286-199646d69a5c"
      },
      "execution_count": 56,
      "outputs": [
        {
          "output_type": "stream",
          "name": "stdout",
          "text": [
            "0.9549295774647887\n"
          ]
        }
      ]
    },
    {
      "cell_type": "code",
      "source": [
        "####################################################################\n",
        "\"\"\"\n",
        "10. Looks like you need to adjust the class imbalance, as the model seems to focus on the 0s.\n",
        "\n",
        "      1. Adjust the appropriate class in the LogisticRegression model.\n",
        "\n",
        "\"\"\"\n",
        "####################################################################"
      ],
      "metadata": {
        "id": "jVkCFVm6vq57"
      },
      "execution_count": null,
      "outputs": []
    },
    {
      "cell_type": "code",
      "source": [
        "data['label'].value_counts().plot(kind='bar')\n",
        "plt.title(\"Distribution of label\", size=18)"
      ],
      "metadata": {
        "id": "O0EqLfwYjBtU",
        "colab": {
          "base_uri": "https://localhost:8080/",
          "height": 299
        },
        "outputId": "a786c538-c3ad-479a-d72d-6ecd941354db"
      },
      "execution_count": 57,
      "outputs": [
        {
          "output_type": "execute_result",
          "data": {
            "text/plain": [
              "Text(0.5, 1.0, 'Distribution of label')"
            ]
          },
          "metadata": {},
          "execution_count": 57
        },
        {
          "output_type": "display_data",
          "data": {
            "image/png": "[encoded data removed]",
            "text/plain": [
              "<Figure size 432x288 with 1 Axes>"
            ]
          },
          "metadata": {
            "needs_background": "light"
          }
        }
      ]
    },
    {
      "cell_type": "code",
      "source": [
        "# distribution\n",
        "data['label'].value_counts()/data.shape[0]"
      ],
      "metadata": {
        "colab": {
          "base_uri": "https://localhost:8080/"
        },
        "id": "QjaJrqz1vzZD",
        "outputId": "4e850e4c-1e62-4fdc-dfbd-c5e6fbb20d2e"
      },
      "execution_count": 58,
      "outputs": [
        {
          "output_type": "execute_result",
          "data": {
            "text/plain": [
              "0    0.929888\n",
              "1    0.070112\n",
              "Name: label, dtype: float64"
            ]
          },
          "metadata": {},
          "execution_count": 58
        }
      ]
    },
    {
      "cell_type": "code",
      "source": [
        "# define class weights\n",
        "w = {0:1, 1:92} # lable distribution % is 1:0==7:92\n",
        "lr_2 = LogisticRegression(random_state=11, class_weight=w)"
      ],
      "metadata": {
        "id": "L2VyQ4aCv25A"
      },
      "execution_count": 59,
      "outputs": []
    },
    {
      "cell_type": "code",
      "source": [
        "####################################################################\n",
        "\"\"\"\n",
        "11. Train again with the adjustment and evaluate.\n",
        "\n",
        "      1. Train the model on the train set.\n",
        "      2. Evaluate the predictions on the train set: accuracy, recall, and f_1 score.\n",
        "\n",
        "\"\"\"\n",
        "####################################################################"
      ],
      "metadata": {
        "id": "uYF08xk1v8Cs"
      },
      "execution_count": null,
      "outputs": []
    },
    {
      "cell_type": "code",
      "source": [
        "lr_2.fit(X_train_tfidf, y_train)"
      ],
      "metadata": {
        "id": "CM8-YUvYiDO6",
        "colab": {
          "base_uri": "https://localhost:8080/"
        },
        "outputId": "383b0a3b-efe0-442a-f5a6-7f39a53a47da"
      },
      "execution_count": 71,
      "outputs": [
        {
          "output_type": "execute_result",
          "data": {
            "text/plain": [
              "LogisticRegression(class_weight={0: 1, 1: 92}, random_state=11)"
            ]
          },
          "metadata": {},
          "execution_count": 71
        }
      ]
    },
    {
      "cell_type": "code",
      "source": [
        "predictions_2 = lr_2.predict(X_test_tfidf)"
      ],
      "metadata": {
        "id": "9w9kR_WhwEZ0"
      },
      "execution_count": 61,
      "outputs": []
    },
    {
      "cell_type": "code",
      "source": [
        "print(\"Accuracy : \", accuracy_score(y_test, predictions_2))\n",
        "print(\" Recall : \", recall_score(y_test, predictions_2))\n",
        "print(\"f1_score : \", f1_score(y_test, predictions_2))\n"
      ],
      "metadata": {
        "colab": {
          "base_uri": "https://localhost:8080/"
        },
        "id": "c3DV2gEBwcS2",
        "outputId": "e5e17ca8-4059-4f82-a1e6-92c7ee17ae42"
      },
      "execution_count": 62,
      "outputs": [
        {
          "output_type": "stream",
          "name": "stdout",
          "text": [
            "Accuracy :  0.8539906103286385\n",
            " Recall :  0.8870588235294118\n",
            "f1_score :  0.4469472436277415\n"
          ]
        }
      ]
    },
    {
      "cell_type": "code",
      "source": [
        "####################################################################\n",
        "\"\"\"\n",
        "12. Regularization and Hyperparameter tuning:\n",
        "\n",
        "      1. Import GridSearch and StratifiedKFold because of class imbalance.\n",
        "      2. Provide the parameter grid to choose for ‘C’ and ‘penalty’ parameters.\n",
        "      3. Use a balanced class weight while instantiating the logistic regression.\n",
        "\"\"\"\n",
        "####################################################################"
      ],
      "metadata": {
        "id": "YN8gqaAywfEJ"
      },
      "execution_count": null,
      "outputs": []
    },
    {
      "cell_type": "code",
      "source": [
        "from sklearn.model_selection import GridSearchCV, StratifiedKFold"
      ],
      "metadata": {
        "id": "d5JpqUuUiBDW"
      },
      "execution_count": 64,
      "outputs": []
    },
    {
      "cell_type": "code",
      "source": [
        "C_val = np.arange(0.5, 20.0, 0.5)\n",
        "penalty_val = [\"l1\", \"l2\"]"
      ],
      "metadata": {
        "id": "_ALNaoGnwn9j"
      },
      "execution_count": 65,
      "outputs": []
    },
    {
      "cell_type": "code",
      "source": [
        "hyperparam_grid = {\"penalty\": penalty_val, \"C\": C_val }"
      ],
      "metadata": {
        "id": "6CjqVhzZwtP5"
      },
      "execution_count": 66,
      "outputs": []
    },
    {
      "cell_type": "code",
      "source": [
        "lr_3 = LogisticRegression(random_state=11, class_weight=w)"
      ],
      "metadata": {
        "id": "tQw07HGKwwSf"
      },
      "execution_count": 67,
      "outputs": []
    },
    {
      "cell_type": "code",
      "source": [
        "####################################################################\n",
        "\"\"\"\n",
        "13. Find the parameters with the best recall in cross validation.\n",
        "\n",
        "      1. Choose ‘recall’ as the metric for scoring.\n",
        "      2. Choose stratified 4 fold cross validation scheme.\n",
        "      3. Fit into the train set.\n",
        "\"\"\"\n",
        "####################################################################"
      ],
      "metadata": {
        "id": "icLTRkQnwzPg"
      },
      "execution_count": null,
      "outputs": []
    },
    {
      "cell_type": "code",
      "source": [
        "grid = GridSearchCV(lr_3, hyperparam_grid, scoring=\"recall\", cv=4)"
      ],
      "metadata": {
        "id": "jGqw1p_0wnaE"
      },
      "execution_count": 68,
      "outputs": []
    },
    {
      "cell_type": "code",
      "source": [
        "grid.fit(X_train_tfidf, y_train)"
      ],
      "metadata": {
        "colab": {
          "base_uri": "https://localhost:8080/"
        },
        "id": "Kq-J9HxIw-sX",
        "outputId": "a9ba78fa-0d8b-421f-b1f9-ebd7f93d488a"
      },
      "execution_count": 72,
      "outputs": [
        {
          "output_type": "execute_result",
          "data": {
            "text/plain": [
              "GridSearchCV(cv=4,\n",
              "             estimator=LogisticRegression(class_weight={0: 1, 1: 92},\n",
              "                                          random_state=11),\n",
              "             param_grid={'C': array([ 0.5,  1. ,  1.5,  2. ,  2.5,  3. ,  3.5,  4. ,  4.5,  5. ,  5.5,\n",
              "        6. ,  6.5,  7. ,  7.5,  8. ,  8.5,  9. ,  9.5, 10. , 10.5, 11. ,\n",
              "       11.5, 12. , 12.5, 13. , 13.5, 14. , 14.5, 15. , 15.5, 16. , 16.5,\n",
              "       17. , 17.5, 18. , 18.5, 19. , 19.5]),\n",
              "                         'penalty': ['l1', 'l2']},\n",
              "             scoring='recall')"
            ]
          },
          "metadata": {},
          "execution_count": 72
        }
      ]
    },
    {
      "cell_type": "code",
      "source": [
        "####################################################################\n",
        "''' 14. What are the best parameters? '''\n",
        "####################################################################"
      ],
      "metadata": {
        "id": "I3qhRAhIxBzs"
      },
      "execution_count": null,
      "outputs": []
    },
    {
      "cell_type": "code",
      "source": [
        "print(f'Best recall: {grid.best_score_} with param: {grid.best_params_}')"
      ],
      "metadata": {
        "colab": {
          "base_uri": "https://localhost:8080/"
        },
        "id": "mc2kA_L8yHet",
        "outputId": "399a27fc-d557-42e0-d491-34599670f726"
      },
      "execution_count": 73,
      "outputs": [
        {
          "output_type": "stream",
          "name": "stdout",
          "text": [
            "Best recall: 0.9019215995176552 with param: {'C': 0.5, 'penalty': 'l2'}\n"
          ]
        }
      ]
    },
    {
      "cell_type": "code",
      "source": [
        "####################################################################\n",
        "\"\"\"\n",
        "15. Predict and evaluate using the best estimator.\n",
        "\n",
        "      1. Use the best estimator from the grid search to make predictions on the test set.\n",
        "      2. What is the recall on the test set for the toxic comments?\n",
        "      3. What is the f_1 score?\n",
        "\n",
        "\"\"\"\n",
        "####################################################################"
      ],
      "metadata": {
        "id": "mRyJVjkbyJhR"
      },
      "execution_count": null,
      "outputs": []
    },
    {
      "cell_type": "code",
      "source": [
        "lr_4 = LogisticRegression(random_state=11, class_weight=w, C=0.5, penalty='l2')\n",
        "lr_4.fit(X_train_tfidf, y_train)"
      ],
      "metadata": {
        "colab": {
          "base_uri": "https://localhost:8080/"
        },
        "id": "nHMitZPayUo7",
        "outputId": "10dd78c9-66f6-46e8-cd06-1534aa3b7de8"
      },
      "execution_count": 74,
      "outputs": [
        {
          "output_type": "execute_result",
          "data": {
            "text/plain": [
              "LogisticRegression(C=0.5, class_weight={0: 1, 1: 92}, random_state=11)"
            ]
          },
          "metadata": {},
          "execution_count": 74
        }
      ]
    },
    {
      "cell_type": "code",
      "source": [
        "predictions = lr_4.predict(X_test_tfidf)"
      ],
      "metadata": {
        "id": "4hjswG1TyVIM"
      },
      "execution_count": 75,
      "outputs": []
    },
    {
      "cell_type": "code",
      "source": [
        "print(\"Accuracy : \", accuracy_score(y_test, predictions))\n",
        "print(\" Recall : \", recall_score(y_test, predictions))\n",
        "print(\"f1_score : \", f1_score(y_test, predictions))"
      ],
      "metadata": {
        "colab": {
          "base_uri": "https://localhost:8080/"
        },
        "id": "yOlFwwa_yY2c",
        "outputId": "c96e91b3-3743-4ed0-a08d-35bccb0e7418"
      },
      "execution_count": 76,
      "outputs": [
        {
          "output_type": "stream",
          "name": "stdout",
          "text": [
            "Accuracy :  0.8195618153364632\n",
            " Recall :  0.9129411764705883\n",
            "f1_score :  0.4022809745982374\n"
          ]
        }
      ]
    },
    {
      "cell_type": "code",
      "source": [
        ""
      ],
      "metadata": {
        "id": "Kmd04n6eyeIW"
      },
      "execution_count": null,
      "outputs": []
    }
  ]
}